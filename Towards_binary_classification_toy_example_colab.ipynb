{
  "nbformat": 4,
  "nbformat_minor": 0,
  "metadata": {
    "colab": {
      "name": "Towards binary classification toy example-colab.ipynb",
      "provenance": []
    },
    "kernelspec": {
      "display_name": "Python 3",
      "language": "python",
      "name": "python3"
    }
  },
  "cells": [
    {
      "cell_type": "markdown",
      "metadata": {
        "id": "tq1dqoFCXhO9",
        "colab_type": "text"
      },
      "source": [
        "# Towards binary classification\n",
        "### Understand important features using a decision tree"
      ]
    },
    {
      "cell_type": "markdown",
      "metadata": {
        "id": "cqw4Uw1pXhO_",
        "colab_type": "text"
      },
      "source": [
        "Reading:\n",
        "- scikit-learn - https://scikit-learn.org/stable/\n",
        "- Decision Trees - https://scikit-learn.org/stable/modules/tree.html\n",
        "- Count Vectorizer - https://scikit-learn.org/stable/modules/generated/sklearn.feature_extraction.text.CountVectorizer.html"
      ]
    },
    {
      "cell_type": "markdown",
      "metadata": {
        "id": "67dvt-yQXhPA",
        "colab_type": "text"
      },
      "source": [
        "### To run this notebook you need test_sentiment.zip (in Learning Central)"
      ]
    },
    {
      "cell_type": "code",
      "metadata": {
        "colab_type": "code",
        "outputId": "66bd40c3-7cef-49a0-921a-6aa60ce6ab9d",
        "id": "fiqxcA65h4rE",
        "colab": {
          "base_uri": "https://localhost:8080/",
          "height": 35
        }
      },
      "source": [
        "CURRENT_PATH = \"\" # path with your dataset"
      ],
      "execution_count": 0,
      "outputs": [
        {
          "output_type": "stream",
          "text": [
            " test_sentiment  'Towards binary classification toy example.ipynb'\n"
          ],
          "name": "stdout"
        }
      ]
    },
    {
      "cell_type": "code",
      "metadata": {
        "id": "3EZHj4l3XhPB",
        "colab_type": "code",
        "outputId": "fcf60d2d-e5ce-4a7f-d4d8-a303913a1f54",
        "colab": {
          "base_uri": "https://localhost:8080/",
          "height": 52
        }
      },
      "source": [
        "import os\n",
        "from collections import defaultdict\n",
        "# read each file, add that file to a list of files belonging to the same class\n",
        "data_path = CURRENT_PATH\n",
        "# get all files contained in the directory\n",
        "list_of_files = os.listdir(data_path)\n",
        "# data is a dictionary where each key is a string, and each value is a list\n",
        "# Convenient because we do not have to check if the key exists or not, it will always work\n",
        "data=defaultdict(list)\n",
        "for one_file in list_of_files:\n",
        "    #os.path.join joins a path to a folder and a file into one manageable path\n",
        "    # in windows, something like os.path.join(c:\\Users\\luis,'file.txt') >>> 'c:\\\\Users\\\\luis\\\\file.txt'\n",
        "    with open(os.path.join(data_path,one_file),'r') as f:\n",
        "        for line in f:\n",
        "            # each line in each file contains one single document\n",
        "            data[one_file].append(line)\n",
        "for label in data:\n",
        "    print('For label ',label,' we have ',len(data[label]),' documents')"
      ],
      "execution_count": 0,
      "outputs": [
        {
          "output_type": "stream",
          "text": [
            "For label  neg  we have  3  documents\n",
            "For label  pos  we have  3  documents\n"
          ],
          "name": "stdout"
        }
      ]
    },
    {
      "cell_type": "code",
      "metadata": {
        "id": "ed3HJfg9XhPI",
        "colab_type": "code",
        "colab": {}
      },
      "source": [
        "# create label to id dictionary\n",
        "label2id = {'pos':1,'neg':0}"
      ],
      "execution_count": 0,
      "outputs": []
    },
    {
      "cell_type": "code",
      "metadata": {
        "id": "aA4iqYGbXhPK",
        "colab_type": "code",
        "outputId": "4e21d5cd-96e0-4855-e5ce-a5b6c7d61442",
        "colab": {
          "base_uri": "https://localhost:8080/",
          "height": 52
        }
      },
      "source": [
        "print(data['neg'][0])"
      ],
      "execution_count": 0,
      "outputs": [
        {
          "output_type": "stream",
          "text": [
            "terrible movie and awful plot\n",
            "\n"
          ],
          "name": "stdout"
        }
      ]
    },
    {
      "cell_type": "code",
      "metadata": {
        "id": "s0Ffxs7kXhPN",
        "colab_type": "code",
        "outputId": "2306f47d-71a1-4b80-94c7-7899da281d2d",
        "colab": {
          "base_uri": "https://localhost:8080/",
          "height": 52
        }
      },
      "source": [
        "print(data['pos'][0])"
      ],
      "execution_count": 0,
      "outputs": [
        {
          "output_type": "stream",
          "text": [
            "i loved the movie\n",
            "\n"
          ],
          "name": "stdout"
        }
      ]
    },
    {
      "cell_type": "markdown",
      "metadata": {
        "id": "fKbAcqDTXhPR",
        "colab_type": "text"
      },
      "source": [
        "- We have a balanced class distribution, 50% positive, 50% negative"
      ]
    },
    {
      "cell_type": "code",
      "metadata": {
        "id": "Q_nFbFePXhPS",
        "colab_type": "code",
        "outputId": "975103c7-5d05-4285-bce7-e950e51ca7bf",
        "colab": {
          "base_uri": "https://localhost:8080/",
          "height": 35
        }
      },
      "source": [
        "len(data['pos']),len(data['neg'])"
      ],
      "execution_count": 0,
      "outputs": [
        {
          "output_type": "execute_result",
          "data": {
            "text/plain": [
              "(3, 3)"
            ]
          },
          "metadata": {
            "tags": []
          },
          "execution_count": 7
        }
      ]
    },
    {
      "cell_type": "code",
      "metadata": {
        "id": "_LZJCZAlXhPU",
        "colab_type": "code",
        "colab": {}
      },
      "source": [
        "# we will also store all documents in a single array to use the following bit of code\n",
        "all_documents = []\n",
        "# we will do the same for labels (for later)\n",
        "all_labels = []\n",
        "# for each label in the dictionary (key)\n",
        "for label in data:\n",
        "    # for each document in the list of documents pertaining to that label\n",
        "    for document in data[label]:\n",
        "        # add that document to the array with all documents\n",
        "        all_documents.append(document)\n",
        "        all_labels.append(label2id[label])"
      ],
      "execution_count": 0,
      "outputs": []
    },
    {
      "cell_type": "code",
      "metadata": {
        "id": "PIgPefEfXhPX",
        "colab_type": "code",
        "outputId": "6bebfaa0-c4f4-4bfe-e742-24e7e84d0807",
        "colab": {
          "base_uri": "https://localhost:8080/",
          "height": 35
        }
      },
      "source": [
        "len(all_documents),type(all_documents)"
      ],
      "execution_count": 0,
      "outputs": [
        {
          "output_type": "execute_result",
          "data": {
            "text/plain": [
              "(6, list)"
            ]
          },
          "metadata": {
            "tags": []
          },
          "execution_count": 9
        }
      ]
    },
    {
      "cell_type": "code",
      "metadata": {
        "id": "05a01bj3XhPa",
        "colab_type": "code",
        "outputId": "d4dd1aef-4aa6-455c-9717-923679717a9d",
        "colab": {
          "base_uri": "https://localhost:8080/",
          "height": 191
        }
      },
      "source": [
        "# Here we start using scikit-learn!\n",
        "# the CountVectorizer can be used to transform each document into a 'bag-of-words' representation\n",
        "# https://en.wikipedia.org/wiki/Bag-of-words_model\n",
        "# Each document is then represented as *presence* or *absence* of the words in our 'bag'\n",
        "from sklearn.feature_extraction.text import CountVectorizer\n",
        "# We don't need to use a dictionary for counting word frequency and selecting the important ones.\n",
        "# sklearn has this (and more advanced) built-in functions!\n",
        "vectorizer = CountVectorizer(max_features=50, stop_words='english')\n",
        "X = vectorizer.fit_transform(all_documents)\n",
        "print('These are our \"features\":',', '.join(vectorizer.get_feature_names()))\n",
        "print('A value of zero means that word is not in the document, one if yes')\n",
        "print('Each value in a document array corresponds by position with the above features')\n",
        "print(X.toarray())  \n",
        "print('E.g.: The last document contains the words \"action\", \"fantastic\" and \"loved\"')"
      ],
      "execution_count": 0,
      "outputs": [
        {
          "output_type": "stream",
          "text": [
            "These are our \"features\": action, awful, did, fantastic, just, like, loved, movie, plot, scenery, terrible\n",
            "A value of zero means that word is not in the document, one if yes\n",
            "Each value in a document array corresponds by position with the above features\n",
            "[[0 1 0 0 0 0 0 1 1 0 1]\n",
            " [0 0 1 0 0 1 0 0 0 1 0]\n",
            " [0 1 0 0 1 0 0 0 1 0 0]\n",
            " [0 0 0 0 0 0 1 1 0 0 0]\n",
            " [0 0 0 1 0 0 0 0 1 0 0]\n",
            " [1 0 0 1 0 0 1 0 0 0 0]]\n",
            "E.g.: The last document contains the words \"action\", \"fantastic\" and \"loved\"\n"
          ],
          "name": "stdout"
        }
      ]
    },
    {
      "cell_type": "code",
      "metadata": {
        "id": "zYltII10XhPd",
        "colab_type": "code",
        "colab": {}
      },
      "source": [
        "# Fit a decision tree (classifier based on a set of if-else questions to eventually make an informed decision)\n",
        "from sklearn import tree\n",
        "clf = tree.DecisionTreeClassifier()\n",
        "# The fit method takes two equally long arrays, one with data points (X), and one with labels (all_labels).\n",
        "# By convention you will see the labels referred to as 'y', and data as 'X'.\n",
        "clf = clf.fit(X, all_labels)"
      ],
      "execution_count": 0,
      "outputs": []
    },
    {
      "cell_type": "code",
      "metadata": {
        "scrolled": false,
        "id": "DQi8LvEJXhPf",
        "colab_type": "code",
        "outputId": "b7a81876-f437-40d0-a2a1-837ab26a4b88",
        "colab": {
          "base_uri": "https://localhost:8080/",
          "height": 477
        }
      },
      "source": [
        "# We will *not* use the classifier to make predictions yet, but rather to understand the data we have.\n",
        "# Specifically, which are the most discriminative features, and what are they useful to discriminate?\n",
        "# In this example, which are the words whose presence tell us most about positive and negative documents?\n",
        "\n",
        "# We import the graphviz library simply for visualizing the tree\n",
        "import graphviz\n",
        "os.environ[\"PATH\"] += os.pathsep + ' C:\\\\Program Files\\\\Python36\\\\Lib\\\\site-packages\\\\graphviz'\n",
        "print(os.environ)\n",
        "dot_data = tree.export_graphviz(clf, out_file=None, \n",
        "                                feature_names=vectorizer.get_feature_names(),  \n",
        "                                class_names=list(label2id.keys()),  \n",
        "                                filled=True, \n",
        "                                rounded=True,  \n",
        "                                special_characters=True)  \n",
        "graph = graphviz.Source(dot_data)  \n",
        "graph "
      ],
      "execution_count": 0,
      "outputs": [
        {
          "output_type": "stream",
          "text": [
            "environ({'ENV': '/root/.bashrc', 'GCS_READ_CACHE_BLOCK_SIZE_MB': '16', 'CLOUDSDK_CONFIG': '/content/.config', 'CUDA_VERSION': '10.0.130', 'PATH': '/usr/local/bin:/usr/local/nvidia/bin:/usr/local/cuda/bin:/usr/local/sbin:/usr/local/bin:/usr/sbin:/usr/bin:/sbin:/bin:/tools/node/bin:/tools/google-cloud-sdk/bin:/opt/bin: C:\\\\Program Files\\\\Python36\\\\Lib\\\\site-packages\\\\graphviz', 'HOME': '/root', 'COLAB_USE_SEABORN_STYLE': '1', 'LD_LIBRARY_PATH': '/usr/local/nvidia/lib:/usr/local/nvidia/lib64', 'LANG': 'en_US.UTF-8', 'SHELL': '/bin/bash', 'LIBRARY_PATH': '/usr/local/cuda/lib64/stubs', 'CUDA_PKG_VERSION': '10-0=10.0.130-1', 'SHLVL': '1', 'NCCL_VERSION': '2.4.2', 'NVIDIA_VISIBLE_DEVICES': 'all', 'TF_FORCE_GPU_ALLOW_GROWTH': 'true', 'DEBIAN_FRONTEND': 'noninteractive', 'CUDNN_VERSION': '7.5.0.56', 'JPY_PARENT_PID': '40', 'PYTHONPATH': '/env/python', 'DATALAB_SETTINGS_OVERRIDES': '{\"kernelManagerProxyPort\":6000,\"kernelManagerProxyHost\":\"172.28.0.3\",\"jupyterArgs\":[\"--ip=\\\\\"172.28.0.2\\\\\"\"]}', 'NO_GCE_CHECK': 'True', 'GLIBCXX_FORCE_NEW': '1', 'NVIDIA_DRIVER_CAPABILITIES': 'compute,utility', '_': '/tools/node/bin/forever', 'LD_PRELOAD': '/usr/lib/x86_64-linux-gnu/libtcmalloc.so.4', 'NVIDIA_REQUIRE_CUDA': 'cuda>=10.0 brand=tesla,driver>=384,driver<385', 'OLDPWD': '/', 'HOSTNAME': 'b837e0a907dc', 'COLAB_GPU': '0', 'PWD': '/', 'GLIBCPP_FORCE_NEW': '1', 'PYTHONWARNINGS': 'ignore:::pip._internal.cli.base_command', 'TERM': 'xterm-color', 'CLICOLOR': '1', 'PAGER': 'cat', 'GIT_PAGER': 'cat', 'MPLBACKEND': 'module://ipykernel.pylab.backend_inline'})\n"
          ],
          "name": "stdout"
        },
        {
          "output_type": "execute_result",
          "data": {
            "text/plain": [
              "<graphviz.files.Source at 0x7f280f647978>"
            ],
            "image/svg+xml": "<?xml version=\"1.0\" encoding=\"UTF-8\" standalone=\"no\"?>\n<!DOCTYPE svg PUBLIC \"-//W3C//DTD SVG 1.1//EN\"\n \"http://www.w3.org/Graphics/SVG/1.1/DTD/svg11.dtd\">\n<!-- Generated by graphviz version 2.40.1 (20161225.0304)\n -->\n<!-- Title: Tree Pages: 1 -->\n<svg width=\"282pt\" height=\"314pt\"\n viewBox=\"0.00 0.00 282.00 314.00\" xmlns=\"http://www.w3.org/2000/svg\" xmlns:xlink=\"http://www.w3.org/1999/xlink\">\n<g id=\"graph0\" class=\"graph\" transform=\"scale(1 1) rotate(0) translate(4 310)\">\n<title>Tree</title>\n<polygon fill=\"#ffffff\" stroke=\"transparent\" points=\"-4,4 -4,-310 278,-310 278,4 -4,4\"/>\n<!-- 0 -->\n<g id=\"node1\" class=\"node\">\n<title>0</title>\n<path fill=\"transparent\" stroke=\"#000000\" d=\"M206.5,-306C206.5,-306 124.5,-306 124.5,-306 118.5,-306 112.5,-300 112.5,-294 112.5,-294 112.5,-235 112.5,-235 112.5,-229 118.5,-223 124.5,-223 124.5,-223 206.5,-223 206.5,-223 212.5,-223 218.5,-229 218.5,-235 218.5,-235 218.5,-294 218.5,-294 218.5,-300 212.5,-306 206.5,-306\"/>\n<text text-anchor=\"start\" x=\"120.5\" y=\"-290.8\" font-family=\"Helvetica,sans-Serif\" font-size=\"14.00\" fill=\"#000000\">fantastic ≤ 0.5</text>\n<text text-anchor=\"start\" x=\"136\" y=\"-275.8\" font-family=\"Helvetica,sans-Serif\" font-size=\"14.00\" fill=\"#000000\">gini = 0.5</text>\n<text text-anchor=\"start\" x=\"126\" y=\"-260.8\" font-family=\"Helvetica,sans-Serif\" font-size=\"14.00\" fill=\"#000000\">samples = 6</text>\n<text text-anchor=\"start\" x=\"124\" y=\"-245.8\" font-family=\"Helvetica,sans-Serif\" font-size=\"14.00\" fill=\"#000000\">value = [3, 3]</text>\n<text text-anchor=\"start\" x=\"128.5\" y=\"-230.8\" font-family=\"Helvetica,sans-Serif\" font-size=\"14.00\" fill=\"#000000\">class = pos</text>\n</g>\n<!-- 1 -->\n<g id=\"node2\" class=\"node\">\n<title>1</title>\n<path fill=\"#e58139\" fill-opacity=\"0.666667\" stroke=\"#000000\" d=\"M145,-187C145,-187 70,-187 70,-187 64,-187 58,-181 58,-175 58,-175 58,-116 58,-116 58,-110 64,-104 70,-104 70,-104 145,-104 145,-104 151,-104 157,-110 157,-116 157,-116 157,-175 157,-175 157,-181 151,-187 145,-187\"/>\n<text text-anchor=\"start\" x=\"72\" y=\"-171.8\" font-family=\"Helvetica,sans-Serif\" font-size=\"14.00\" fill=\"#000000\">loved ≤ 0.5</text>\n<text text-anchor=\"start\" x=\"69.5\" y=\"-156.8\" font-family=\"Helvetica,sans-Serif\" font-size=\"14.00\" fill=\"#000000\">gini = 0.375</text>\n<text text-anchor=\"start\" x=\"68\" y=\"-141.8\" font-family=\"Helvetica,sans-Serif\" font-size=\"14.00\" fill=\"#000000\">samples = 4</text>\n<text text-anchor=\"start\" x=\"66\" y=\"-126.8\" font-family=\"Helvetica,sans-Serif\" font-size=\"14.00\" fill=\"#000000\">value = [3, 1]</text>\n<text text-anchor=\"start\" x=\"70.5\" y=\"-111.8\" font-family=\"Helvetica,sans-Serif\" font-size=\"14.00\" fill=\"#000000\">class = pos</text>\n</g>\n<!-- 0&#45;&gt;1 -->\n<g id=\"edge1\" class=\"edge\">\n<title>0&#45;&gt;1</title>\n<path fill=\"none\" stroke=\"#000000\" d=\"M145.2144,-222.8796C141.0443,-214.3236 136.6091,-205.2238 132.3003,-196.3833\"/>\n<polygon fill=\"#000000\" stroke=\"#000000\" points=\"135.3997,-194.7538 127.8722,-187.2981 129.1073,-197.8207 135.3997,-194.7538\"/>\n<text text-anchor=\"middle\" x=\"119.7265\" y=\"-207.2338\" font-family=\"Helvetica,sans-Serif\" font-size=\"14.00\" fill=\"#000000\">True</text>\n</g>\n<!-- 4 -->\n<g id=\"node5\" class=\"node\">\n<title>4</title>\n<path fill=\"#399de5\" stroke=\"#000000\" d=\"M262,-179.5C262,-179.5 187,-179.5 187,-179.5 181,-179.5 175,-173.5 175,-167.5 175,-167.5 175,-123.5 175,-123.5 175,-117.5 181,-111.5 187,-111.5 187,-111.5 262,-111.5 262,-111.5 268,-111.5 274,-117.5 274,-123.5 274,-123.5 274,-167.5 274,-167.5 274,-173.5 268,-179.5 262,-179.5\"/>\n<text text-anchor=\"start\" x=\"195\" y=\"-164.3\" font-family=\"Helvetica,sans-Serif\" font-size=\"14.00\" fill=\"#000000\">gini = 0.0</text>\n<text text-anchor=\"start\" x=\"185\" y=\"-149.3\" font-family=\"Helvetica,sans-Serif\" font-size=\"14.00\" fill=\"#000000\">samples = 2</text>\n<text text-anchor=\"start\" x=\"183\" y=\"-134.3\" font-family=\"Helvetica,sans-Serif\" font-size=\"14.00\" fill=\"#000000\">value = [0, 2]</text>\n<text text-anchor=\"start\" x=\"187\" y=\"-119.3\" font-family=\"Helvetica,sans-Serif\" font-size=\"14.00\" fill=\"#000000\">class = neg</text>\n</g>\n<!-- 0&#45;&gt;4 -->\n<g id=\"edge4\" class=\"edge\">\n<title>0&#45;&gt;4</title>\n<path fill=\"none\" stroke=\"#000000\" d=\"M186.1353,-222.8796C191.5872,-211.8835 197.4843,-199.9893 202.9816,-188.9015\"/>\n<polygon fill=\"#000000\" stroke=\"#000000\" points=\"206.1804,-190.3289 207.4867,-179.8149 199.9089,-187.2195 206.1804,-190.3289\"/>\n<text text-anchor=\"middle\" x=\"215.4722\" y=\"-199.8053\" font-family=\"Helvetica,sans-Serif\" font-size=\"14.00\" fill=\"#000000\">False</text>\n</g>\n<!-- 2 -->\n<g id=\"node3\" class=\"node\">\n<title>2</title>\n<path fill=\"#e58139\" stroke=\"#000000\" d=\"M87,-68C87,-68 12,-68 12,-68 6,-68 0,-62 0,-56 0,-56 0,-12 0,-12 0,-6 6,0 12,0 12,0 87,0 87,0 93,0 99,-6 99,-12 99,-12 99,-56 99,-56 99,-62 93,-68 87,-68\"/>\n<text text-anchor=\"start\" x=\"20\" y=\"-52.8\" font-family=\"Helvetica,sans-Serif\" font-size=\"14.00\" fill=\"#000000\">gini = 0.0</text>\n<text text-anchor=\"start\" x=\"10\" y=\"-37.8\" font-family=\"Helvetica,sans-Serif\" font-size=\"14.00\" fill=\"#000000\">samples = 3</text>\n<text text-anchor=\"start\" x=\"8\" y=\"-22.8\" font-family=\"Helvetica,sans-Serif\" font-size=\"14.00\" fill=\"#000000\">value = [3, 0]</text>\n<text text-anchor=\"start\" x=\"12.5\" y=\"-7.8\" font-family=\"Helvetica,sans-Serif\" font-size=\"14.00\" fill=\"#000000\">class = pos</text>\n</g>\n<!-- 1&#45;&gt;2 -->\n<g id=\"edge2\" class=\"edge\">\n<title>1&#45;&gt;2</title>\n<path fill=\"none\" stroke=\"#000000\" d=\"M85.9029,-103.9815C81.3612,-95.2504 76.5598,-86.0202 71.9863,-77.2281\"/>\n<polygon fill=\"#000000\" stroke=\"#000000\" points=\"75.0431,-75.52 67.3233,-68.2637 68.8331,-78.7504 75.0431,-75.52\"/>\n</g>\n<!-- 3 -->\n<g id=\"node4\" class=\"node\">\n<title>3</title>\n<path fill=\"#399de5\" stroke=\"#000000\" d=\"M204,-68C204,-68 129,-68 129,-68 123,-68 117,-62 117,-56 117,-56 117,-12 117,-12 117,-6 123,0 129,0 129,0 204,0 204,0 210,0 216,-6 216,-12 216,-12 216,-56 216,-56 216,-62 210,-68 204,-68\"/>\n<text text-anchor=\"start\" x=\"137\" y=\"-52.8\" font-family=\"Helvetica,sans-Serif\" font-size=\"14.00\" fill=\"#000000\">gini = 0.0</text>\n<text text-anchor=\"start\" x=\"127\" y=\"-37.8\" font-family=\"Helvetica,sans-Serif\" font-size=\"14.00\" fill=\"#000000\">samples = 1</text>\n<text text-anchor=\"start\" x=\"125\" y=\"-22.8\" font-family=\"Helvetica,sans-Serif\" font-size=\"14.00\" fill=\"#000000\">value = [0, 1]</text>\n<text text-anchor=\"start\" x=\"129\" y=\"-7.8\" font-family=\"Helvetica,sans-Serif\" font-size=\"14.00\" fill=\"#000000\">class = neg</text>\n</g>\n<!-- 1&#45;&gt;3 -->\n<g id=\"edge3\" class=\"edge\">\n<title>1&#45;&gt;3</title>\n<path fill=\"none\" stroke=\"#000000\" d=\"M129.4694,-103.9815C134.0895,-95.2504 138.9736,-86.0202 143.626,-77.2281\"/>\n<polygon fill=\"#000000\" stroke=\"#000000\" points=\"146.7859,-78.7395 148.3694,-68.2637 140.5987,-75.4655 146.7859,-78.7395\"/>\n</g>\n</g>\n</svg>\n"
          },
          "metadata": {
            "tags": []
          },
          "execution_count": 12
        }
      ]
    },
    {
      "cell_type": "code",
      "metadata": {
        "id": "JHk0M8JlXhPj",
        "colab_type": "code",
        "outputId": "e2c44ca3-0e92-429e-fa43-9f0deff51891",
        "colab": {
          "base_uri": "https://localhost:8080/",
          "height": 121
        }
      },
      "source": [
        "# Remember the type of data we are dealing with\n",
        "for l in data:\n",
        "    for tweet in data[l]:\n",
        "        print(l,'->',tweet.strip())"
      ],
      "execution_count": 0,
      "outputs": [
        {
          "output_type": "stream",
          "text": [
            "neg -> terrible movie and awful plot\n",
            "neg -> i did not like the scenery at all\n",
            "neg -> plot was just awful\n",
            "pos -> i loved the movie\n",
            "pos -> the plot was fantastic\n",
            "pos -> we loved the fantastic action\n"
          ],
          "name": "stdout"
        }
      ]
    },
    {
      "cell_type": "code",
      "metadata": {
        "id": "E54D-N33XhPo",
        "colab_type": "code",
        "outputId": "60cccde4-572e-4db2-ee14-6f8c828ef031",
        "colab": {
          "base_uri": "https://localhost:8080/",
          "height": 35
        }
      },
      "source": [
        "# Save the tree file to disk\n",
        "graph.render(os.path.join(CURRENT_PATH+'test_tree'),format='png')"
      ],
      "execution_count": 0,
      "outputs": [
        {
          "output_type": "execute_result",
          "data": {
            "text/plain": [
              "'/content/drive/My Drive/towards binary classification/test_sentimenttest_tree.png'"
            ]
          },
          "metadata": {
            "tags": []
          },
          "execution_count": 14
        }
      ]
    },
    {
      "cell_type": "markdown",
      "metadata": {
        "id": "ZIHf1NcsXhPr",
        "colab_type": "text"
      },
      "source": [
        "- Next session we'll look at making predictions and evaluating our model!"
      ]
    }
  ]
}